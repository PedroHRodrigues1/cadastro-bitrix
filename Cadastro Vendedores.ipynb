{
 "cells": [
  {
   "cell_type": "code",
   "execution_count": 19,
   "id": "728884db",
   "metadata": {},
   "outputs": [
    {
     "name": "stderr",
     "output_type": "stream",
     "text": [
      "C:\\Users\\INOVAC~1\\AppData\\Local\\Temp/ipykernel_17084/4045636093.py:11: DeprecationWarning: executable_path has been deprecated, please pass in a Service object\n",
      "  navegador = webdriver.Chrome(ChromeDriverManager().install())\n"
     ]
    }
   ],
   "source": [
    "from selenium import webdriver\n",
    "from webdriver_manager.chrome import ChromeDriverManager\n",
    "from selenium.webdriver.common.keys import Keys\n",
    "from selenium.webdriver.common.by import By\n",
    "import pandas as pd\n",
    "import time\n",
    "import pyautogui as py\n",
    "\n",
    "df = pd.read_excel('Cadastro.xlsx')\n",
    "\n",
    "navegador = webdriver.Chrome(ChromeDriverManager().install())\n",
    "\n",
    "\n",
    "navegador.get(\"https://consorciounifisa.bitrix24.com.br/company/structure.php?set_filter_structure=Y&structure_UF_DEPARTMENT=531&current_fieldset=SOCSERV\")\n",
    "\n",
    "navegador.find_element(By.XPATH, '//*[@id=\"login\"]').send_keys('e-mail admin')\n",
    "\n",
    "time.sleep(2)\n",
    "\n",
    "navegador.find_element(By.XPATH, '//*[@id=\"authorize-layout\"]/div/div[3]/div/form/div/div[5]/button[1]').click()\n",
    "\n",
    "time.sleep(2)\n",
    "\n",
    "navegador.find_element(By.XPATH, '//*[@id=\"password\"]').send_keys('senha admin')\n",
    "\n",
    "time.sleep(2)\n",
    "\n",
    "navegador.find_element(By.XPATH, '//*[@id=\"authorize-layout\"]/div/div[3]/div/form/div/div[3]/button[1]').click()\n",
    "\n",
    "time.sleep(2)\n",
    "\n",
    "navegador.find_element(By.XPATH, '//*[@id=\"sidebar\"]/div/div[2]/a[1]').click()\n",
    "\n",
    "time.sleep(3)\n",
    "\n",
    "navegador.switch_to.frame(navegador.find_element(By.XPATH, \"(//iframe)[last()]\"))\n",
    "\n",
    "time.sleep(3)\n",
    "\n",
    "# Use o método .xpath() para selecionar o elemento desejado dentro do iframe\n",
    "navegador.find_element(By.XPATH, '//*[@id=\"sidepanelMenu\"]/li[5]/a').click()\n",
    "\n",
    "\n",
    "def cadastro_vendedor(nome, sobrenome, email):\n",
    "    navegador.find_element(By.XPATH, '//*[@id=\"ADD_NAME\"]').send_keys(nome)\n",
    "    navegador.find_element(By.XPATH, '//*[@id=\"ADD_LAST_NAME\"]').send_keys(sobrenome)\n",
    "    navegador.find_element(By.XPATH, '//*[@id=\"ADD_EMAIL\"]').send_keys(email)\n",
    "    navegador.find_element(By.XPATH, '//*[@id=\"workarea-content\"]/div[1]/div[3]/div[5]/form/div[2]/div/div[2]/div/div[2]/div/div/div[1]/span/span').click()\n",
    "    time.sleep(3)\n",
    "    py.write(\"Vendas\")\n",
    "    time.sleep(2)\n",
    "    py.press(\"enter\")\n",
    "    time.sleep(3)\n",
    "    navegador.find_element(By.XPATH, '//*[@id=\"ADD_SEND_PASSWORD\"]').click()\n",
    "    navegador.find_element(By.XPATH, '//*[@id=\"intranet-invitation-btn\"]').click()\n",
    "    time.sleep(30)\n",
    "    navegador.find_element(By.XPATH, '//*[@id=\"intranet-invitation-btn\"]').click()\n",
    "    navegador.find_element(By.XPATH, '//*[@id=\"sidepanelMenu\"]/li[5]/a').click()\n",
    "\n",
    "    \n",
    "for index, row in df.iterrows():\n",
    "    nome, sobrenome, email = str(row['nome']), str(row['sobrenome']), str(row['email'])\n",
    "    cadastro_vendedor(nome, sobrenome, email)\n"
   ]
  },
  {
   "cell_type": "code",
   "execution_count": 45,
   "id": "27b388e1",
   "metadata": {},
   "outputs": [
    {
     "data": {
      "text/html": [
       "<div>\n",
       "<style scoped>\n",
       "    .dataframe tbody tr th:only-of-type {\n",
       "        vertical-align: middle;\n",
       "    }\n",
       "\n",
       "    .dataframe tbody tr th {\n",
       "        vertical-align: top;\n",
       "    }\n",
       "\n",
       "    .dataframe thead th {\n",
       "        text-align: right;\n",
       "    }\n",
       "</style>\n",
       "<table border=\"1\" class=\"dataframe\">\n",
       "  <thead>\n",
       "    <tr style=\"text-align: right;\">\n",
       "      <th></th>\n",
       "      <th>nome</th>\n",
       "      <th>sobrenome</th>\n",
       "      <th>email</th>\n",
       "    </tr>\n",
       "  </thead>\n",
       "  <tbody>\n",
       "    <tr>\n",
       "      <th>0</th>\n",
       "      <td>Alany</td>\n",
       "      <td>De Lima Furtado</td>\n",
       "      <td>alany.furtado@consorciounifisa.com.br</td>\n",
       "    </tr>\n",
       "  </tbody>\n",
       "</table>\n",
       "</div>"
      ],
      "text/plain": [
       "    nome        sobrenome                                  email\n",
       "0  Alany  De Lima Furtado  alany.furtado@consorciounifisa.com.br"
      ]
     },
     "execution_count": 45,
     "metadata": {},
     "output_type": "execute_result"
    }
   ],
   "source": [
    "df = pd.read_excel('Cadastro.xlsx')\n",
    "df"
   ]
  },
  {
   "cell_type": "code",
   "execution_count": null,
   "id": "208afec4",
   "metadata": {},
   "outputs": [],
   "source": [
    "# Selecione o iframe\n",
    "iframe = navegador.find_element(By.XPATH() '#iframe_qz91b2mrl4')\n",
    "navegador.switch_to.frame(iframe)\n",
    "\n"
   ]
  },
  {
   "cell_type": "code",
   "execution_count": null,
   "id": "e0199ea2",
   "metadata": {},
   "outputs": [],
   "source": []
  }
 ],
 "metadata": {
  "kernelspec": {
   "display_name": "Python 3 (ipykernel)",
   "language": "python",
   "name": "python3"
  },
  "language_info": {
   "codemirror_mode": {
    "name": "ipython",
    "version": 3
   },
   "file_extension": ".py",
   "mimetype": "text/x-python",
   "name": "python",
   "nbconvert_exporter": "python",
   "pygments_lexer": "ipython3",
   "version": "3.9.7"
  }
 },
 "nbformat": 4,
 "nbformat_minor": 5
}
